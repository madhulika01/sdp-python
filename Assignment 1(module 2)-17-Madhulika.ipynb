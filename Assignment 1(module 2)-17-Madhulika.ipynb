{
 "cells": [
  {
   "cell_type": "code",
   "execution_count": 1,
   "metadata": {},
   "outputs": [],
   "source": [
    "#two inputs from user and check whether they are equal or not"
   ]
  },
  {
   "cell_type": "code",
   "execution_count": 11,
   "metadata": {},
   "outputs": [
    {
     "name": "stdout",
     "output_type": "stream",
     "text": [
      "Enter a number 8\n",
      "Enter another number9\n",
      "The numbers are not equal\n"
     ]
    }
   ],
   "source": [
    "x = int(input(\"Enter a number\"))\n",
    "y = int(input(\"Enter another number\"))\n",
    "if(x==y):\n",
    "    print(\"The numbers are equal\")\n",
    "else:\n",
    "    print(\"The numbers are not equal\")"
   ]
  },
  {
   "cell_type": "code",
   "execution_count": 4,
   "metadata": {},
   "outputs": [],
   "source": [
    "#3 inputs from user and check : all are equal , any of two are equal"
   ]
  },
  {
   "cell_type": "code",
   "execution_count": 9,
   "metadata": {},
   "outputs": [
    {
     "name": "stdout",
     "output_type": "stream",
     "text": [
      "Enter first number 5 \n",
      "Enter second number6\n",
      "Enter third number6\n",
      "Two of the numbers are equal \n"
     ]
    }
   ],
   "source": [
    "n1 = int(input(\"Enter first number\"))\n",
    "n2 = int(input(\"Enter second number\"))\n",
    "n3 = int(input(\"Enter third number\"))\n",
    "if(n1==n2 and n1==n3):\n",
    "    print(\"All are equal\")\n",
    "elif(n1==n2 or n1==n3):\n",
    "    print(\"Two of the numbers are equal \")\n",
    "elif(n2==n3):\n",
    "    print(\"Two of the numbers are equal \")\n",
    "else:\n",
    "    print(\"None of them are equal\")"
   ]
  },
  {
   "cell_type": "code",
   "execution_count": 10,
   "metadata": {},
   "outputs": [],
   "source": [
    "#check whether the sum is greater than 5, less than 5 ,or equal to 5"
   ]
  },
  {
   "cell_type": "code",
   "execution_count": 12,
   "metadata": {},
   "outputs": [
    {
     "name": "stdout",
     "output_type": "stream",
     "text": [
      "Enter a number 7\n",
      "Enter another number6\n",
      "The sum is greater than 5 \n"
     ]
    }
   ],
   "source": [
    "p = int(input(\"Enter a number\"))\n",
    "q = int(input(\"Enter another number\"))\n",
    "sum = p+q\n",
    "if(sum>5):\n",
    "    print(\"The sum is greater than 5 \")\n",
    "elif(sum<5):\n",
    "    print(\"The sum is lesser than 5\")\n",
    "else:\n",
    "    print(\"The sum is equal to 5\")"
   ]
  },
  {
   "cell_type": "code",
   "execution_count": 13,
   "metadata": {},
   "outputs": [],
   "source": [
    "#input of marks and check if it is greater than passing marks(35) or not"
   ]
  },
  {
   "cell_type": "code",
   "execution_count": 17,
   "metadata": {},
   "outputs": [
    {
     "name": "stdout",
     "output_type": "stream",
     "text": [
      "Enter your marks 89\n",
      "You have passed the exam\n"
     ]
    }
   ],
   "source": [
    "marks = int(input(\"Enter your marks\"))\n",
    "if(marks>=35):\n",
    "    print(\"You have passed the exam\")\n",
    "else:\n",
    "    print(\"You have failed the exam\")"
   ]
  },
  {
   "cell_type": "code",
   "execution_count": 18,
   "metadata": {},
   "outputs": [],
   "source": [
    "# Max of three numbers"
   ]
  },
  {
   "cell_type": "code",
   "execution_count": 21,
   "metadata": {},
   "outputs": [
    {
     "name": "stdout",
     "output_type": "stream",
     "text": [
      "Enter first number7\n",
      "Enter second number9\n",
      "Enter third number8\n",
      "the largest number is: 9\n"
     ]
    }
   ],
   "source": [
    "a=int(input(\"Enter first number\"))\n",
    "b=int(input(\"Enter second number\"))\n",
    "c=int(input(\"Enter third number\"))\n",
    "if(a>b and a>c):\n",
    "    large=a;\n",
    "elif(b>a and b>c):\n",
    "    large=b\n",
    "else:\n",
    "    large=c\n",
    "print(\"the largest number is:\",large)\n",
    "    "
   ]
  },
  {
   "cell_type": "code",
   "execution_count": null,
   "metadata": {},
   "outputs": [],
   "source": []
  }
 ],
 "metadata": {
  "kernelspec": {
   "display_name": "Python 3",
   "language": "python",
   "name": "python3"
  },
  "language_info": {
   "codemirror_mode": {
    "name": "ipython",
    "version": 3
   },
   "file_extension": ".py",
   "mimetype": "text/x-python",
   "name": "python",
   "nbconvert_exporter": "python",
   "pygments_lexer": "ipython3",
   "version": "3.8.3"
  }
 },
 "nbformat": 4,
 "nbformat_minor": 4
}
