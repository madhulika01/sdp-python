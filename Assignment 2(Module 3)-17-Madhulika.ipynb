{
 "cells": [
  {
   "cell_type": "code",
   "execution_count": 1,
   "metadata": {},
   "outputs": [],
   "source": [
    "# count number of vowels in given string"
   ]
  },
  {
   "cell_type": "code",
   "execution_count": 4,
   "metadata": {},
   "outputs": [
    {
     "name": "stdout",
     "output_type": "stream",
     "text": [
      "Enter string : Hello world\n",
      "Number of vowels are : 3\n"
     ]
    }
   ],
   "source": [
    "a = input(\"Enter string : \")\n",
    "count = 0\n",
    "for  i in a:\n",
    "    if(i=='a'or i=='e'or i=='i'or i=='o'or i=='u' or i=='A'or i=='E'or i=='I'or i=='O'or i=='U'):\n",
    "        count=count+1\n",
    "print(\"Number of vowels are :\",count)"
   ]
  },
  {
   "cell_type": "code",
   "execution_count": 5,
   "metadata": {},
   "outputs": [],
   "source": [
    "# remove all duplicates from a given string"
   ]
  },
  {
   "cell_type": "code",
   "execution_count": 10,
   "metadata": {},
   "outputs": [
    {
     "name": "stdout",
     "output_type": "stream",
     "text": [
      "Enter a string :banana\n",
      "Without Order =  nab\n",
      "With Order =  ban\n"
     ]
    }
   ],
   "source": [
    "from collections import OrderedDict \n",
    "\n",
    "def removeDupWithoutOrder(str):\n",
    "    return \"\".join(set(str))  \n",
    "def removeDupWithOrder(str): \n",
    "    return \"\".join(OrderedDict.fromkeys(str))  \n",
    "str = input(\"Enter a string :\")\n",
    "print(\"Without Order = \",removeDupWithoutOrder(str))\n",
    "print(\"With Order = \",removeDupWithOrder(str)) "
   ]
  },
  {
   "cell_type": "code",
   "execution_count": 19,
   "metadata": {},
   "outputs": [],
   "source": [
    "# print even length words in a string"
   ]
  },
  {
   "cell_type": "code",
   "execution_count": 26,
   "metadata": {},
   "outputs": [
    {
     "name": "stdout",
     "output_type": "stream",
     "text": [
      "Enter a string :Good morning\n",
      "Good\n",
      "None\n"
     ]
    }
   ],
   "source": [
    "def words(s):\n",
    "    s=s.split(' ')\n",
    "    for word in s:\n",
    "        if len(word)%2==0:\n",
    "            print(word)\n",
    "s=input(\"Enter a string :\")\n",
    "print(words(s))"
   ]
  },
  {
   "cell_type": "code",
   "execution_count": 27,
   "metadata": {},
   "outputs": [],
   "source": [
    "# Reverse words in a given String "
   ]
  },
  {
   "cell_type": "code",
   "execution_count": 34,
   "metadata": {},
   "outputs": [
    {
     "name": "stdout",
     "output_type": "stream",
     "text": [
      "Enter a string :Python is an interpreted language\n",
      "language interpreted an is Python\n"
     ]
    }
   ],
   "source": [
    "def rev_sentence(sentence): \n",
    "    words = sentence.split(' ') \n",
    "    reverse_sentence = ' '.join(reversed(words))\n",
    "    return reverse_sentence   \n",
    "b=input(\"Enter a string :\")\n",
    "print(rev_sentence(b)) "
   ]
  },
  {
   "cell_type": "code",
   "execution_count": 37,
   "metadata": {},
   "outputs": [],
   "source": [
    "#check if a given string is binary string or not "
   ]
  },
  {
   "cell_type": "code",
   "execution_count": 40,
   "metadata": {},
   "outputs": [
    {
     "name": "stdout",
     "output_type": "stream",
     "text": [
      ">101\n",
      "Yes\n"
     ]
    }
   ],
   "source": [
    "def check(string) :  \n",
    "    p = set(string) \n",
    "    s = {'0', '1'} \n",
    "    if s == p or p == {'0'} or p == {'1'}: \n",
    "        print(\"Yes\") \n",
    "    else : \n",
    "        print(\"No\") \n",
    "string=input(\">\")\n",
    "check(string)"
   ]
  }
 ],
 "metadata": {
  "kernelspec": {
   "display_name": "Python 3",
   "language": "python",
   "name": "python3"
  },
  "language_info": {
   "codemirror_mode": {
    "name": "ipython",
    "version": 3
   },
   "file_extension": ".py",
   "mimetype": "text/x-python",
   "name": "python",
   "nbconvert_exporter": "python",
   "pygments_lexer": "ipython3",
   "version": "3.8.3"
  }
 },
 "nbformat": 4,
 "nbformat_minor": 4
}
