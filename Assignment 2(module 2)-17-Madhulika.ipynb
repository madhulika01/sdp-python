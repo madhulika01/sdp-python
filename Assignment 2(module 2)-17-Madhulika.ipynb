{
 "cells": [
  {
   "cell_type": "code",
   "execution_count": 1,
   "metadata": {},
   "outputs": [],
   "source": [
    "# max of three numbers"
   ]
  },
  {
   "cell_type": "code",
   "execution_count": 2,
   "metadata": {},
   "outputs": [
    {
     "name": "stdout",
     "output_type": "stream",
     "text": [
      "Enter first number 6\n",
      "Enter second number3\n",
      "Enter third number8\n",
      "the largest among  the entered number's is: 8\n"
     ]
    }
   ],
   "source": [
    "a=int(input(\"Enter first number\"))\n",
    "b=int(input(\"Enter second number\"))\n",
    "c=int(input(\"Enter third number\"))\n",
    "if(a>=b and a>=c):\n",
    "    large=a;\n",
    "elif(b>=a and b>=c):\n",
    "    large=b\n",
    "else:\n",
    "    large=c\n",
    "print(\"the largest among  the entered number's is:\",large)"
   ]
  },
  {
   "cell_type": "code",
   "execution_count": 3,
   "metadata": {},
   "outputs": [],
   "source": [
    "# reverse a string"
   ]
  },
  {
   "cell_type": "code",
   "execution_count": 4,
   "metadata": {},
   "outputs": [
    {
     "name": "stdout",
     "output_type": "stream",
     "text": [
      "Enter a string Bangalore\n",
      "Reverse of string entered is  erolagnaB \n"
     ]
    }
   ],
   "source": [
    "str = input(\"Enter a string\")\n",
    "str=str[::-1]\n",
    "print(\"Reverse of string entered is \",str)"
   ]
  },
  {
   "cell_type": "code",
   "execution_count": 5,
   "metadata": {},
   "outputs": [],
   "source": [
    "#check whether the number is prime or not"
   ]
  },
  {
   "cell_type": "code",
   "execution_count": 14,
   "metadata": {},
   "outputs": [
    {
     "name": "stdout",
     "output_type": "stream",
     "text": [
      "Enter a number 13\n",
      "13  is a prime number\n"
     ]
    }
   ],
   "source": [
    "num=int(input(\"Enter a number \"))\n",
    "if(num>1):\n",
    "    if(num%2)==0 and num!=2:\n",
    "        print(num,\"is not a prime number\")\n",
    "    elif(num%3)==0 and num!=3:\n",
    "        print(num,\"is not a prime number\")\n",
    "    elif(num%5)==0 and num!=5:\n",
    "        print(num,\"is not a prime number\")  \n",
    "    elif(num%7)==0 and num!=7:\n",
    "        print(num,\"is not a prime number\")\n",
    "    else:\n",
    "        print(num,\" is a prime number\")\n",
    "else:\n",
    "    print(num,\" is not a prime number\")"
   ]
  },
  {
   "cell_type": "code",
   "execution_count": 10,
   "metadata": {},
   "outputs": [],
   "source": [
    "# check whether the number is palindrome or not"
   ]
  },
  {
   "cell_type": "code",
   "execution_count": 20,
   "metadata": {},
   "outputs": [
    {
     "name": "stdout",
     "output_type": "stream",
     "text": [
      "Enter a number 343\n",
      "343  is a PALINDROME\n",
      "Execution is done successfully\n",
      "Finally block is always executed\n"
     ]
    }
   ],
   "source": [
    "try:\n",
    "    num=int(input(\"Enter a number \"))\n",
    "    temp=num\n",
    "    rev=0\n",
    "    while(num>0):\n",
    "        r=num%10\n",
    "        rev=rev*10+r\n",
    "        num=num//10\n",
    "    if temp==rev:\n",
    "        print(temp,\" is a PALINDROME\")\n",
    "    else:\n",
    "        print(temp,\"is NOT A PALINDROME\")\n",
    "except ValueError:\n",
    "    print(\"That is not a valid number,Try Again\")\n",
    "else:\n",
    "    print(\"Execution is done successfully\")\n",
    "finally:\n",
    "    print(\"Finally block is always executed\")"
   ]
  },
  {
   "cell_type": "code",
   "execution_count": 12,
   "metadata": {},
   "outputs": [],
   "source": [
    "#find sum of squares of first n natural numbers"
   ]
  },
  {
   "cell_type": "code",
   "execution_count": 16,
   "metadata": {},
   "outputs": [
    {
     "name": "stdout",
     "output_type": "stream",
     "text": [
      "Enter a number7\n",
      "140\n"
     ]
    }
   ],
   "source": [
    "n=int(input(\"Enter a number\"))\n",
    "def squaresum(n) : \n",
    "    return (n * (n + 1) * (2 * n + 1)) // 6\n",
    "print(squaresum(n)) "
   ]
  }
 ],
 "metadata": {
  "kernelspec": {
   "display_name": "Python 3",
   "language": "python",
   "name": "python3"
  },
  "language_info": {
   "codemirror_mode": {
    "name": "ipython",
    "version": 3
   },
   "file_extension": ".py",
   "mimetype": "text/x-python",
   "name": "python",
   "nbconvert_exporter": "python",
   "pygments_lexer": "ipython3",
   "version": "3.8.3"
  }
 },
 "nbformat": 4,
 "nbformat_minor": 4
}
