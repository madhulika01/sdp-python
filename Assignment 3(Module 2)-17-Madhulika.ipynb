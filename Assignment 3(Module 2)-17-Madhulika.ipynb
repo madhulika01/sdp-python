{
 "cells": [
  {
   "cell_type": "code",
   "execution_count": 3,
   "metadata": {},
   "outputs": [],
   "source": [
    "# area of a circle using math function"
   ]
  },
  {
   "cell_type": "code",
   "execution_count": 4,
   "metadata": {},
   "outputs": [],
   "source": [
    "import math"
   ]
  },
  {
   "cell_type": "code",
   "execution_count": 7,
   "metadata": {},
   "outputs": [
    {
     "name": "stdout",
     "output_type": "stream",
     "text": [
      "enter the radius of circle6.8\n",
      "Area of circle is : 145.26724430199204\n"
     ]
    }
   ],
   "source": [
    "r = float(input(\"enter the radius of circle\"))\n",
    "Area=math.pi*r*r\n",
    "print(\"Area of circle is :\",Area)"
   ]
  },
  {
   "cell_type": "code",
   "execution_count": 8,
   "metadata": {},
   "outputs": [],
   "source": [
    "# Area of Regular Polygon using math function"
   ]
  },
  {
   "cell_type": "code",
   "execution_count": 11,
   "metadata": {},
   "outputs": [
    {
     "name": "stdout",
     "output_type": "stream",
     "text": [
      "Number of sides : 4\n",
      "Length of a side : 20\n",
      "The area of a regular polygon :  400.00000000000006\n"
     ]
    }
   ],
   "source": [
    "n = int(input(\"Number of sides : \"))\n",
    "s = float(input(\"Length of a side : \"))\n",
    "p_area = n*(s**2)/(4*math.tan(math.pi/n))\n",
    "print(\"The area of a regular polygon : \",p_area)"
   ]
  },
  {
   "cell_type": "code",
   "execution_count": 12,
   "metadata": {},
   "outputs": [],
   "source": [
    "# Area of a Segment of a Circle using math function"
   ]
  },
  {
   "cell_type": "code",
   "execution_count": 18,
   "metadata": {},
   "outputs": [
    {
     "name": "stdout",
     "output_type": "stream",
     "text": [
      "Radius of circle : 8\n",
      "Angle enclosed by the segment : 90\n",
      "Area of minor segment : 18.26548245743669\n",
      "Area of major segment : 182.79644737231007\n"
     ]
    }
   ],
   "source": [
    "def area_of_segment(radius,angle):\n",
    "    area_of_sector = math.pi * (radius * radius) * (angle / 360)\n",
    "    area_of_triangle = 0.5 *(radius * radius) *math.sin((angle * math.pi) / 180) \n",
    "    return area_of_sector-area_of_triangle\n",
    "\n",
    "radius = float(input(\"Radius of circle : \"))\n",
    "angle = float(input(\"Angle enclosed by the segment : \"))\n",
    "print(\"Area of minor segment :\",area_of_segment(radius,angle))\n",
    "print(\"Area of major segment :\",area_of_segment(radius,360-angle))    "
   ]
  },
  {
   "cell_type": "code",
   "execution_count": 19,
   "metadata": {},
   "outputs": [],
   "source": [
    "# shuffle list"
   ]
  },
  {
   "cell_type": "code",
   "execution_count": 22,
   "metadata": {},
   "outputs": [],
   "source": [
    "import random"
   ]
  },
  {
   "cell_type": "code",
   "execution_count": 28,
   "metadata": {},
   "outputs": [
    {
     "name": "stdout",
     "output_type": "stream",
     "text": [
      "[2, 100, 1, 40, 3, 'hi', 'hello', 30]\n"
     ]
    }
   ],
   "source": [
    "x = [100,1,2,3,30,40,'hi','hello']\n",
    "random.shuffle(x)\n",
    "print(x)"
   ]
  },
  {
   "cell_type": "code",
   "execution_count": 29,
   "metadata": {},
   "outputs": [],
   "source": [
    "#generate random numbers between 1,10000"
   ]
  },
  {
   "cell_type": "code",
   "execution_count": 38,
   "metadata": {},
   "outputs": [
    {
     "name": "stdout",
     "output_type": "stream",
     "text": [
      "[1, 51, 101, 151, 201, 251, 301, 351, 401, 451, 501, 551, 601, 651, 701, 751, 801, 851, 901, 951, 1001, 1051, 1101, 1151, 1201, 1251, 1301, 1351, 1401, 1451, 1501, 1551, 1601, 1651, 1701, 1751, 1801, 1851, 1901, 1951, 2001, 2051, 2101, 2151, 2201, 2251, 2301, 2351, 2401, 2451, 2501, 2551, 2601, 2651, 2701, 2751, 2801, 2851, 2901, 2951, 3001, 3051, 3101, 3151, 3201, 3251, 3301, 3351, 3401, 3451, 3501, 3551, 3601, 3651, 3701, 3751, 3801, 3851, 3901, 3951, 4001, 4051, 4101, 4151, 4201, 4251, 4301, 4351, 4401, 4451, 4501, 4551, 4601, 4651, 4701, 4751, 4801, 4851, 4901, 4951, 5001, 5051, 5101, 5151, 5201, 5251, 5301, 5351, 5401, 5451, 5501, 5551, 5601, 5651, 5701, 5751, 5801, 5851, 5901, 5951, 6001, 6051, 6101, 6151, 6201, 6251, 6301, 6351, 6401, 6451, 6501, 6551, 6601, 6651, 6701, 6751, 6801, 6851, 6901, 6951, 7001, 7051, 7101, 7151, 7201, 7251, 7301, 7351, 7401, 7451, 7501, 7551, 7601, 7651, 7701, 7751, 7801, 7851, 7901, 7951, 8001, 8051, 8101, 8151, 8201, 8251, 8301, 8351, 8401, 8451, 8501, 8551, 8601, 8651, 8701, 8751, 8801, 8851, 8901, 8951, 9001, 9051, 9101, 9151, 9201, 9251, 9301, 9351, 9401, 9451, 9501, 9551, 9601, 9651, 9701, 9751, 9801, 9851, 9901, 9951]\n"
     ]
    }
   ],
   "source": [
    "x=list(range(1,10000,50))\n",
    "print(x)"
   ]
  },
  {
   "cell_type": "code",
   "execution_count": 39,
   "metadata": {},
   "outputs": [],
   "source": [
    "import math"
   ]
  },
  {
   "cell_type": "code",
   "execution_count": 40,
   "metadata": {},
   "outputs": [
    {
     "data": {
      "text/plain": [
       "-0.3048106211022167"
      ]
     },
     "execution_count": 40,
     "metadata": {},
     "output_type": "execute_result"
    }
   ],
   "source": [
    "math.sin(60)"
   ]
  },
  {
   "cell_type": "code",
   "execution_count": 41,
   "metadata": {},
   "outputs": [
    {
     "data": {
      "text/plain": [
       "-1.0"
      ]
     },
     "execution_count": 41,
     "metadata": {},
     "output_type": "execute_result"
    }
   ],
   "source": [
    "math.cos(math.pi)"
   ]
  },
  {
   "cell_type": "code",
   "execution_count": 42,
   "metadata": {},
   "outputs": [
    {
     "data": {
      "text/plain": [
       "-1.995200412208242"
      ]
     },
     "execution_count": 42,
     "metadata": {},
     "output_type": "execute_result"
    }
   ],
   "source": [
    "math.tan(90)"
   ]
  },
  {
   "cell_type": "code",
   "execution_count": 43,
   "metadata": {},
   "outputs": [
    {
     "data": {
      "text/plain": [
       "0.7617599814162892"
      ]
     },
     "execution_count": 43,
     "metadata": {},
     "output_type": "execute_result"
    }
   ],
   "source": [
    "math.sin(0.8660254037844386)"
   ]
  },
  {
   "cell_type": "code",
   "execution_count": 44,
   "metadata": {},
   "outputs": [
    {
     "data": {
      "text/plain": [
       "390625.0"
      ]
     },
     "execution_count": 44,
     "metadata": {},
     "output_type": "execute_result"
    }
   ],
   "source": [
    "math.pow(5,8)"
   ]
  },
  {
   "cell_type": "code",
   "execution_count": 45,
   "metadata": {},
   "outputs": [
    {
     "data": {
      "text/plain": [
       "20.0"
      ]
     },
     "execution_count": 45,
     "metadata": {},
     "output_type": "execute_result"
    }
   ],
   "source": [
    "math.sqrt(400)"
   ]
  },
  {
   "cell_type": "code",
   "execution_count": 46,
   "metadata": {},
   "outputs": [
    {
     "data": {
      "text/plain": [
       "79.43235916621322"
      ]
     },
     "execution_count": 46,
     "metadata": {},
     "output_type": "execute_result"
    }
   ],
   "source": [
    "math.pow(5,math.e)"
   ]
  },
  {
   "cell_type": "code",
   "execution_count": 47,
   "metadata": {},
   "outputs": [
    {
     "data": {
      "text/plain": [
       "10.0"
      ]
     },
     "execution_count": 47,
     "metadata": {},
     "output_type": "execute_result"
    }
   ],
   "source": [
    "math.log(1024,2)"
   ]
  },
  {
   "cell_type": "code",
   "execution_count": 48,
   "metadata": {},
   "outputs": [
    {
     "data": {
      "text/plain": [
       "3.0102999566398116"
      ]
     },
     "execution_count": 48,
     "metadata": {},
     "output_type": "execute_result"
    }
   ],
   "source": [
    "math.log(1024,10)"
   ]
  },
  {
   "cell_type": "code",
   "execution_count": 49,
   "metadata": {},
   "outputs": [
    {
     "data": {
      "text/plain": [
       "23"
      ]
     },
     "execution_count": 49,
     "metadata": {},
     "output_type": "execute_result"
    }
   ],
   "source": [
    "math.floor(23.56)"
   ]
  },
  {
   "cell_type": "code",
   "execution_count": 50,
   "metadata": {},
   "outputs": [
    {
     "data": {
      "text/plain": [
       "24"
      ]
     },
     "execution_count": 50,
     "metadata": {},
     "output_type": "execute_result"
    }
   ],
   "source": [
    "math.ceil(23.56)"
   ]
  }
 ],
 "metadata": {
  "kernelspec": {
   "display_name": "Python 3",
   "language": "python",
   "name": "python3"
  },
  "language_info": {
   "codemirror_mode": {
    "name": "ipython",
    "version": 3
   },
   "file_extension": ".py",
   "mimetype": "text/x-python",
   "name": "python",
   "nbconvert_exporter": "python",
   "pygments_lexer": "ipython3",
   "version": "3.8.3"
  }
 },
 "nbformat": 4,
 "nbformat_minor": 4
}
