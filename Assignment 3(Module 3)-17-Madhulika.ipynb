{
 "cells": [
  {
   "cell_type": "code",
   "execution_count": 1,
   "metadata": {},
   "outputs": [],
   "source": [
    "# count occurrences of all characters within a string"
   ]
  },
  {
   "cell_type": "code",
   "execution_count": 6,
   "metadata": {},
   "outputs": [
    {
     "name": "stdout",
     "output_type": "stream",
     "text": [
      "Enter a string :Hello how are you\n",
      "Enter a char :o\n",
      "The total number of times  o  has occured =  3\n"
     ]
    }
   ],
   "source": [
    "str = input(\"Enter a string :\")\n",
    "char = input(\"Enter a char :\")\n",
    "count=0\n",
    "for i in range(len(str)):\n",
    "    if(str[i] == char):\n",
    "        count+=1\n",
    "print(\"The total number of times \",char,\" has occured = \",count)"
   ]
  },
  {
   "cell_type": "code",
   "execution_count": 7,
   "metadata": {},
   "outputs": [],
   "source": [
    "#return the sum and average of the digits that appear in the string"
   ]
  },
  {
   "cell_type": "code",
   "execution_count": 10,
   "metadata": {},
   "outputs": [
    {
     "name": "stdout",
     "output_type": "stream",
     "text": [
      "Enter a string :12abc20yz68\n",
      "100\n"
     ]
    }
   ],
   "source": [
    "def findSum(str1): \n",
    "    temp = \"\" \n",
    "    Sum = 0\n",
    "    for ch in str1: \n",
    "        if (ch.isdigit()):\n",
    "            temp += ch \n",
    "        else: \n",
    "            Sum += int(temp) \n",
    "            temp = \"0\"\n",
    "    return Sum + int(temp)\n",
    "\n",
    "str1=input(\"Enter a string :\")\n",
    "print(findSum(str1))"
   ]
  },
  {
   "cell_type": "code",
   "execution_count": 12,
   "metadata": {},
   "outputs": [],
   "source": [
    "# Count all lower case, upper case, digits, and special symbols"
   ]
  },
  {
   "cell_type": "code",
   "execution_count": 16,
   "metadata": {},
   "outputs": [
    {
     "name": "stdout",
     "output_type": "stream",
     "text": [
      "Enter a string :Happy123Hol@4$\n",
      "Uppercase letter : 2\n",
      "Lowercase letter : 6\n",
      "Digits : 4\n",
      "Special characters : 2\n"
     ]
    }
   ],
   "source": [
    "def count(s):\n",
    "    upper,lower,digits,special=0,0,0,0\n",
    "    for i in range(len(s)):\n",
    "        if s[i].isupper():\n",
    "            upper+=1\n",
    "        elif s[i].islower():\n",
    "            lower+=1\n",
    "        elif s[i].isdigit():\n",
    "            digits+=1\n",
    "        else:\n",
    "            special+=1\n",
    "    print(\"Uppercase letter :\",upper)\n",
    "    print(\"Lowercase letter :\",lower)\n",
    "    print(\"Digits :\",digits)\n",
    "    print(\"Special characters :\",special)\n",
    "s=input(\"Enter a string :\")\n",
    "count(s)"
   ]
  },
  {
   "cell_type": "code",
   "execution_count": 17,
   "metadata": {},
   "outputs": [],
   "source": [
    "# Arrange String characters such that lowercase letters should come first"
   ]
  },
  {
   "cell_type": "code",
   "execution_count": 20,
   "metadata": {},
   "outputs": [
    {
     "name": "stdout",
     "output_type": "stream",
     "text": [
      "Enter a string : PyThOn\n",
      "Original String : PyThOn\n",
      "After arranging : yhnPTO\n"
     ]
    }
   ],
   "source": [
    "m=input(\"Enter a string : \")\n",
    "print(\"Original String :\",m)\n",
    "words=m.split()\n",
    "lower=[]\n",
    "upper=[]\n",
    "for char in m:\n",
    "    if char.islower():\n",
    "        lower.append(char)\n",
    "    else:\n",
    "        upper.append(char)\n",
    "sortedStr=''.join(lower+upper)\n",
    "print(\"After arranging :\",sortedStr)"
   ]
  },
  {
   "cell_type": "code",
   "execution_count": 21,
   "metadata": {},
   "outputs": [],
   "source": [
    "#s1 and s2, create a new string by appending s2 in the middle of s1"
   ]
  },
  {
   "cell_type": "code",
   "execution_count": 22,
   "metadata": {},
   "outputs": [
    {
     "name": "stdout",
     "output_type": "stream",
     "text": [
      ">John\n",
      ">new string\n",
      "Original Strings are : John new string\n",
      "After appending : Jnew stringohn\n"
     ]
    }
   ],
   "source": [
    "def appendMiddle(s1,s2):\n",
    "    middleIndex=int(len(s1)/2)\n",
    "    print(\"Original Strings are :\",s1,s2)\n",
    "    middleThree=s1[:middleIndex-1]+s2+s1[middleIndex-1:]\n",
    "    print(\"After appending :\",middleThree)\n",
    "\n",
    "s1=input(\">\")\n",
    "s2=input(\">\")\n",
    "appendMiddle(s1,s2)"
   ]
  }
 ],
 "metadata": {
  "kernelspec": {
   "display_name": "Python 3",
   "language": "python",
   "name": "python3"
  },
  "language_info": {
   "codemirror_mode": {
    "name": "ipython",
    "version": 3
   },
   "file_extension": ".py",
   "mimetype": "text/x-python",
   "name": "python",
   "nbconvert_exporter": "python",
   "pygments_lexer": "ipython3",
   "version": "3.8.3"
  }
 },
 "nbformat": 4,
 "nbformat_minor": 4
}
